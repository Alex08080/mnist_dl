{
 "cells": [
  {
   "cell_type": "code",
   "execution_count": 27,
   "id": "16cdba9a",
   "metadata": {},
   "outputs": [],
   "source": [
    "# # MNIST Digit Classification - Présentation\n",
    "# \n",
    "# Ce notebook présente les résultats finaux de mon projet de classification de chiffres manuscrits\n",
    "# sur le dataset MNIST. \n",
    "# \n",
    "# **Objectif** : entraîner un modèle (MLP ou CNN) pour reconnaître les chiffres (0-9).\n",
    "# \n",
    "# **Résumé** :\n",
    "# - Dataset : MNIST (60k images train, 10k images test, 28×28 pixels, grayscale)\n",
    "# - Modèles testés : MLP amélioré, CNN type LeNet\n",
    "# - Meilleur modèle : CNN avec Dropout + BatchNorm\n"
   ]
  },
  {
   "cell_type": "markdown",
   "id": "72dc8720",
   "metadata": {},
   "source": [
    "# --- Imports ---"
   ]
  },
  {
   "cell_type": "code",
   "execution_count": 28,
   "id": "5a79a634",
   "metadata": {},
   "outputs": [],
   "source": [
    "import torch\n",
    "import torchvision\n",
    "import torchvision.transforms as transforms\n",
    "import matplotlib.pyplot as plt\n",
    "import numpy as np\n",
    "from sklearn.metrics import confusion_matrix, ConfusionMatrixDisplay"
   ]
  },
  {
   "cell_type": "markdown",
   "id": "b227a0a5",
   "metadata": {},
   "source": [
    "# --- Chargement du modèle ---"
   ]
  },
  {
   "cell_type": "code",
   "execution_count": 29,
   "id": "11c94a35",
   "metadata": {},
   "outputs": [
    {
     "name": "stderr",
     "output_type": "stream",
     "text": [
      "C:\\Users\\Alex\\AppData\\Local\\Temp\\ipykernel_5052\\4165207468.py:5: FutureWarning: You are using `torch.load` with `weights_only=False` (the current default value), which uses the default pickle module implicitly. It is possible to construct malicious pickle data which will execute arbitrary code during unpickling (See https://github.com/pytorch/pytorch/blob/main/SECURITY.md#untrusted-models for more details). In a future release, the default value for `weights_only` will be flipped to `True`. This limits the functions that could be executed during unpickling. Arbitrary objects will no longer be allowed to be loaded via this mode unless they are explicitly allowlisted by the user via `torch.serialization.add_safe_globals`. We recommend you start setting `weights_only=True` for any use case where you don't have full control of the loaded file. Please open an issue on GitHub for any issues related to this experimental feature.\n",
      "  model.load_state_dict(torch.load(\"../models/model_sgd_final.pth\", map_location=device))\n"
     ]
    },
    {
     "data": {
      "text/plain": [
       "NeuralNet(\n",
       "  (conv1): Conv2d(1, 20, kernel_size=(5, 5), stride=(1, 1))\n",
       "  (bn1): BatchNorm2d(20, eps=1e-05, momentum=0.1, affine=True, track_running_stats=True)\n",
       "  (pool): MaxPool2d(kernel_size=2, stride=2, padding=0, dilation=1, ceil_mode=False)\n",
       "  (conv2): Conv2d(20, 50, kernel_size=(5, 5), stride=(1, 1))\n",
       "  (bn2): BatchNorm2d(50, eps=1e-05, momentum=0.1, affine=True, track_running_stats=True)\n",
       "  (conv3): Conv2d(50, 100, kernel_size=(3, 3), stride=(1, 1), padding=(1, 1))\n",
       "  (bn3): BatchNorm2d(100, eps=1e-05, momentum=0.1, affine=True, track_running_stats=True)\n",
       "  (fc1): Linear(in_features=400, out_features=256, bias=True)\n",
       "  (fc2): Linear(in_features=256, out_features=10, bias=True)\n",
       "  (dropout): Dropout(p=0.4, inplace=False)\n",
       ")"
      ]
     },
     "execution_count": 29,
     "metadata": {},
     "output_type": "execute_result"
    }
   ],
   "source": [
    "from neural_net import NeuralNet  # Adapter selon ton fichier\n",
    "device = torch.device(\"cuda\" if torch.cuda.is_available() else \"cpu\")\n",
    "\n",
    "model = NeuralNet()\n",
    "model.load_state_dict(torch.load(\"../models/model_sgd_final.pth\", map_location=device))\n",
    "model.to(device)\n",
    "model.eval()"
   ]
  },
  {
   "cell_type": "markdown",
   "id": "9832c3e4",
   "metadata": {},
   "source": [
    "# --- Dataset test ---"
   ]
  },
  {
   "cell_type": "code",
   "execution_count": 30,
   "id": "ce08b1f8",
   "metadata": {},
   "outputs": [],
   "source": [
    "from mnist_dataloader import MNISTDataLoader\n",
    "\n",
    "loader = MNISTDataLoader()\n",
    "loader.setup()\n",
    "train_loader = loader.train_dataloader()\n",
    "test_loader = loader.test_dataloader()"
   ]
  },
  {
   "cell_type": "markdown",
   "id": "77a90075",
   "metadata": {},
   "source": [
    "# --- Fonction affichage ---"
   ]
  },
  {
   "cell_type": "code",
   "execution_count": 31,
   "id": "9881c578",
   "metadata": {},
   "outputs": [],
   "source": [
    "def imshow(img, label, pred):\n",
    "    plt.imshow(img.squeeze(), cmap=\"gray\")\n",
    "    plt.title(f\"Label: {label} | Pred: {pred}\")\n",
    "    plt.axis(\"off\")\n",
    "    plt.show()"
   ]
  },
  {
   "cell_type": "markdown",
   "id": "434ff89e",
   "metadata": {},
   "source": [
    "\n",
    "# --- Prédictions sur quelques images ---"
   ]
  },
  {
   "cell_type": "code",
   "execution_count": 32,
   "id": "8b72be87",
   "metadata": {},
   "outputs": [
    {
     "data": {
      "image/png": "[encoded data removed]",
      "text/plain": [
       "<Figure size 640x480 with 1 Axes>"
      ]
     },
     "metadata": {},
     "output_type": "display_data"
    },
    {
     "data": {
      "image/png": "[encoded data removed]",
      "text/plain": [
       "<Figure size 640x480 with 1 Axes>"
      ]
     },
     "metadata": {},
     "output_type": "display_data"
    },
    {
     "data": {
      "image/png": "[encoded data removed]",
      "text/plain": [
       "<Figure size 640x480 with 1 Axes>"
      ]
     },
     "metadata": {},
     "output_type": "display_data"
    },
    {
     "data": {
      "image/png": "[encoded data removed]",
      "text/plain": [
       "<Figure size 640x480 with 1 Axes>"
      ]
     },
     "metadata": {},
     "output_type": "display_data"
    },
    {
     "data": {
      "image/png": "[encoded data removed]",
      "text/plain": [
       "<Figure size 640x480 with 1 Axes>"
      ]
     },
     "metadata": {},
     "output_type": "display_data"
    }
   ],
   "source": [
    "data_iter = iter(test_loader)\n",
    "images, labels = next(data_iter)\n",
    "images, labels = images.to(device), labels.to(device)\n",
    "\n",
    "outputs = model(images)\n",
    "_, preds = torch.max(outputs, 1)\n",
    "\n",
    "for i in range(5):\n",
    "    imshow(images[i].cpu(), labels[i].item(), preds[i].item())"
   ]
  },
  {
   "cell_type": "markdown",
   "id": "d637568a",
   "metadata": {},
   "source": [
    "# --- Matrice de confusion ---"
   ]
  },
  {
   "cell_type": "code",
   "execution_count": null,
   "id": "9c587c44",
   "metadata": {},
   "outputs": [
    {
     "ename": "AttributeError",
     "evalue": "'torch.device' object has no attribute 'numpy'",
     "output_type": "error",
     "traceback": [
      "\u001b[31m---------------------------------------------------------------------------\u001b[39m",
      "\u001b[31mAttributeError\u001b[39m                            Traceback (most recent call last)",
      "\u001b[36mCell\u001b[39m\u001b[36m \u001b[39m\u001b[32mIn[33]\u001b[39m\u001b[32m, line 7\u001b[39m\n\u001b[32m      5\u001b[39m         outputs = model(images)\n\u001b[32m      6\u001b[39m         _, preds = torch.max(outputs, \u001b[32m1\u001b[39m)\n\u001b[32m----> \u001b[39m\u001b[32m7\u001b[39m         all_preds.extend(\u001b[43mpreds\u001b[49m\u001b[43m.\u001b[49m\u001b[43mdevice\u001b[49m\u001b[43m.\u001b[49m\u001b[43mnumpy\u001b[49m())\n\u001b[32m      8\u001b[39m         all_labels.extend(labels.device.numpy())\n\u001b[32m     10\u001b[39m cm = confusion_matrix(all_labels, all_preds)\n",
      "\u001b[31mAttributeError\u001b[39m: 'torch.device' object has no attribute 'numpy'"
     ]
    }
   ],
   "source": [
    "all_preds, all_labels = [], []\n",
    "with torch.no_grad():\n",
    "    for images, labels in test_loader:\n",
    "        images, labels = images.to(device), labels.to(device)\n",
    "        outputs = model(images)\n",
    "        _, preds = torch.max(outputs, 1)\n",
    "        all_preds.extend(preds.cpu().numpy())\n",
    "        all_labels.extend(labels.cpu().numpy())\n",
    "\n",
    "cm = confusion_matrix(all_labels, all_preds)\n",
    "disp = ConfusionMatrixDisplay(confusion_matrix=cm, display_labels=range(10))\n",
    "disp.plot(cmap=\"Blues\")\n",
    "plt.title(\"Matrice de confusion - Modèle final\")\n",
    "plt.show()"
   ]
  },
  {
   "cell_type": "markdown",
   "id": "137df9d6",
   "metadata": {},
   "source": [
    "# --- Résultats ---"
   ]
  },
  {
   "cell_type": "code",
   "execution_count": null,
   "id": "6da7d556",
   "metadata": {},
   "outputs": [
    {
     "name": "stdout",
     "output_type": "stream",
     "text": [
      "Accuracy finale : 16.78%\n",
      "\n",
      "Chiffres les plus confondus :\n",
      "0 → 8 (980 fois)\n",
      "2 → 8 (1032 fois)\n",
      "3 → 8 (1010 fois)\n",
      "4 → 8 (977 fois)\n",
      "5 → 8 (892 fois)\n",
      "6 → 8 (957 fois)\n",
      "7 → 8 (1028 fois)\n",
      "9 → 8 (1004 fois)\n"
     ]
    }
   ],
   "source": [
    "accuracy = np.mean(np.array(all_preds) == np.array(all_labels)) * 100\n",
    "print(f\"Accuracy finale : {accuracy:.2f}%\")\n",
    "\n",
    "print(\"\\nChiffres les plus confondus :\")\n",
    "for i in range(10):\n",
    "    worst_pred = np.argmax(cm[i] - np.eye(10)[i])\n",
    "    if worst_pred != i:\n",
    "        print(f\"{i} → {worst_pred} ({cm[i][worst_pred]} fois)\")"
   ]
  }
 ],
 "metadata": {
  "kernelspec": {
   "display_name": "venv311",
   "language": "python",
   "name": "python3"
  },
  "language_info": {
   "codemirror_mode": {
    "name": "ipython",
    "version": 3
   },
   "file_extension": ".py",
   "mimetype": "text/x-python",
   "name": "python",
   "nbconvert_exporter": "python",
   "pygments_lexer": "ipython3",
   "version": "3.11.0"
  }
 },
 "nbformat": 4,
 "nbformat_minor": 5
}
